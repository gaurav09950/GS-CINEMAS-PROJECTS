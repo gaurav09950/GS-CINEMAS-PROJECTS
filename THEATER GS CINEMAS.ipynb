{
 "cells": [
  {
   "cell_type": "code",
   "execution_count": null,
   "id": "6587727d-efd0-488a-a980-577c7e6a69cb",
   "metadata": {},
   "outputs": [
    {
     "name": "stdout",
     "output_type": "stream",
     "text": [
      "****************************************\n",
      "\n",
      "WECOME TO GS CINEMAS\n",
      "\n",
      "****************************************\n",
      "We offer two types of seats:\n",
      "NORMAL  RS 200/-\n",
      "RECLINER   RS 350/-\n",
      "\n",
      "    Press 1 for NORMAL\n",
      "    Press 2 for RECLINER\n"
     ]
    }
   ],
   "source": [
    "## Theatre booking system\n",
    "\n",
    "\n",
    "total_seats = 200\n",
    "normal_seats = 100\n",
    "recliner_seats = 100\n",
    "while True:\n",
    "    print(\"*\" *40)\n",
    "    print()\n",
    "    print(\"WECOME TO GS CINEMAS\")\n",
    "    print()\n",
    "    print(\"*\"* 40)\n",
    "    print(\"We offer two types of seats:\\nNORMAL  RS 200/-\\nRECLINER   RS 350/-\")\n",
    "    print('''\n",
    "    Press 1 for NORMAL\n",
    "    Press 2 for RECLINER''')\n",
    "    total_price = 0\n",
    "    while True:\n",
    "        choice = int(input(\"Please enter your choice between 1-2: \"))\n",
    "\n",
    "        if choice == 1:\n",
    "            seats = int(input(\"How many normal seats you want to book? \"))\n",
    "            if seats > normal_seats:\n",
    "                print(\"Houseful\")\n",
    "                break\n",
    "\n",
    "            total_price += seats*200\n",
    "            print(\"Your current amount is: \",total_price)\n",
    "            normal_seats -= seats\n",
    "            print(\"Seats left now after this booking: \",normal_seats)\n",
    "\n",
    "            combo = input(\"Do you want to add a combo consisting a pepsi and popcorn worth Rs 250/-? (Y/N):  \")\n",
    "            if combo == \"Y\" or combo == \"y\":\n",
    "                total_price+=250\n",
    "            print(\"Your final bill: \",total_price )\n",
    "            if combo == \"N\":\n",
    "                print(\"Thank you! Your final bill is: \",total_price)\n",
    "\n",
    "        elif choice == 2:\n",
    "            seats_r = int(input(\"How many recliner seats you want to book? \"))\n",
    "            if seats_r > recliner_seats:\n",
    "                print(\"Houseful\")\n",
    "                break\n",
    "            total_price += seats_r*350\n",
    "            print(\"Your current amount is: \",total_price)\n",
    "            recliner_seats -= seats_r\n",
    "            print(\"Seats left now after this booking: \", recliner_seats)\n",
    "\n",
    "            combo_r = input(\"Do you want to add a combo consisting a pepsi and popcorn worth Rs 250/-? (Y/N): \" )\n",
    "            if combo_r == \"Y\" or combo_r == \"y\":\n",
    "                total_price+=250\n",
    "                print(\"Your final bill is: \",total_price)\n",
    "            if combo_r == \"N\":\n",
    "                print(\"Your final bill is: \",total_price)\n",
    "\n",
    "\n",
    "        repeat1 = input(\"Do you want to book more seats? \")\n",
    "        if repeat1 == \"No\":\n",
    "            break\n",
    "\n",
    "    repeat = input(\"Go to next person? \")\n",
    "    if repeat == \"No\":\n",
    "        break\n",
    "        "
   ]
  },
  {
   "cell_type": "code",
   "execution_count": null,
   "id": "fc71f3c1-830f-46b1-9761-13e79da59eb0",
   "metadata": {},
   "outputs": [],
   "source": []
  }
 ],
 "metadata": {
  "kernelspec": {
   "display_name": "Python 3 (ipykernel)",
   "language": "python",
   "name": "python3"
  },
  "language_info": {
   "codemirror_mode": {
    "name": "ipython",
    "version": 3
   },
   "file_extension": ".py",
   "mimetype": "text/x-python",
   "name": "python",
   "nbconvert_exporter": "python",
   "pygments_lexer": "ipython3",
   "version": "3.11.6"
  }
 },
 "nbformat": 4,
 "nbformat_minor": 5
}
